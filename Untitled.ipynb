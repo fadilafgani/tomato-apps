{
 "cells": [
  {
   "cell_type": "code",
   "execution_count": 7,
   "metadata": {},
   "outputs": [
    {
     "name": "stdout",
     "output_type": "stream",
     "text": [
      "Dog\n"
     ]
    }
   ],
   "source": [
    "from PIL import Image\n",
    "from numpy import asarray\n",
    "# import tensorflow as tf\n",
    "import numpy as np\n",
    "import json\n",
    "import requests\n",
    "\n",
    "SIZE=128\n",
    "# MODEL_URI='https://mypets95.herokuapp.com/v1/models/pets:predict'\n",
    "\n",
    "MODEL_URI='http://192.168.99.100:8502/v1/models/pets:predict'\n",
    "CLASSES = ['Cat', 'Dog']\n",
    "\n",
    "# image = tf.keras.preprocessing.image.load_img(r\"C:\\Users\\Win-10\\Tensorflow\\static\\cats.jpg\", target_size=(SIZE, SIZE))\n",
    "# image = tf.keras.preprocessing.image.img_to_array(image)\n",
    "# image = tf.keras.applications.mobilenet_v2.preprocess_input(image)\n",
    "# image = np.expand_dims(image, axis=0)\n",
    "\n",
    "image =  np.array(Image.open(r\"C:\\Users\\Win-10\\Tensorflow\\static\\unyu.jpg\").resize((SIZE,SIZE)))\n",
    "data = asarray(image)\n",
    "image = np.expand_dims(image, axis=0)\n",
    "\n",
    "data = json.dumps({\n",
    "    'instances': image.tolist()\n",
    "})\n",
    "response = requests.post(MODEL_URI, data=data.encode('utf-8'))\n",
    "result = json.loads(response.text)\n",
    "prediction = np.squeeze(result['predictions'][0])\n",
    "class_name = CLASSES[int(prediction > 0.5)]\n",
    "print(class_name)"
   ]
  },
  {
   "cell_type": "code",
   "execution_count": 33,
   "metadata": {},
   "outputs": [
    {
     "data": {
      "text/plain": [
       "'C:\\\\Users\\\\Win-10\\\\Tensorflow'"
      ]
     },
     "execution_count": 33,
     "metadata": {},
     "output_type": "execute_result"
    }
   ],
   "source": []
  },
  {
   "cell_type": "code",
   "execution_count": 9,
   "metadata": {},
   "outputs": [
    {
     "name": "stdout",
     "output_type": "stream",
     "text": [
      "Early Blight\n"
     ]
    }
   ],
   "source": [
    "from PIL import Image\n",
    "from numpy import asarray\n",
    "# import tensorflow as tf\n",
    "import numpy as np\n",
    "import json\n",
    "import requests\n",
    "\n",
    "SIZE=256\n",
    "# MODEL_URI='http://192.168.99.100:8504/v1/models/tomato_densenet:predict'\n",
    "MODEL_URI='https://tomato-densenet.herokuapp.com/v1/models/tomato_densenet:predict'\n",
    "CLASSES = [\"Bacterial Spot\",\"Early Blight\",\"Late Blight\",\"Leaf Mold\",\"Septoria Leaf Spot\",\"Spider Mites\",\"Target Spot\",\"Yellow Leaf Curl Virus\",\"Mosaic Virus\",\"Healthy\"]\n",
    "\n",
    "image =  np.array(Image.open(r\"C:\\Users\\Win-10\\Tensorflow\\static\\unyu.jpg\").resize((SIZE,SIZE)))\n",
    "img = asarray(image)\n",
    "img = img.reshape(1, 256, 256, 3)\n",
    "img = img.astype('float32')\n",
    "img = img / 255.0\n",
    "\n",
    "mydata = json.dumps({\n",
    "    'instances': img.tolist()\n",
    "})\n",
    "response = requests.post(MODEL_URI , data=mydata)\n",
    "# print(response)\n",
    "result = json.loads(response.text)\n",
    "predictionList = result['predictions'][0]\n",
    "predictionIdx = predictionList.index(max(predictionList))\n",
    "print(CLASSES[predictionIdx])"
   ]
  },
  {
   "cell_type": "code",
   "execution_count": null,
   "metadata": {},
   "outputs": [],
   "source": []
  }
 ],
 "metadata": {
  "kernelspec": {
   "display_name": "Python 3",
   "language": "python",
   "name": "python3"
  },
  "language_info": {
   "codemirror_mode": {
    "name": "ipython",
    "version": 3
   },
   "file_extension": ".py",
   "mimetype": "text/x-python",
   "name": "python",
   "nbconvert_exporter": "python",
   "pygments_lexer": "ipython3",
   "version": "3.7.3"
  }
 },
 "nbformat": 4,
 "nbformat_minor": 2
}
